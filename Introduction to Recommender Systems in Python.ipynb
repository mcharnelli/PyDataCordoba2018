{
 "cells": [
  {
   "cell_type": "markdown",
   "metadata": {},
   "source": [
    "![](portada-pydata.png)"
   ]
  },
  {
   "cell_type": "markdown",
   "metadata": {},
   "source": [
    "# Introduction to Recommender Systems in Python"
   ]
  },
  {
   "cell_type": "markdown",
   "metadata": {},
   "source": [
    "Recommender Systems analyze patterns of user interest in articles or products in order to provide personalized recommendations that satisfy their preferences.\n",
    "\n",
    "In order to create a recommender system, different tasks must be performed.\n",
    "\n",
    "Python has a large number of libraries that allow us and facilitate this:  \n",
    "\n",
    "* Pandas: very powerful and flexible data analysis / manipulation tool;\n",
    "* SciKit-Learn: SciKit library that provides data mining and machine learning techniques.\n",
    "* SciKit-Surprise: SciKit library to test and evaluate different recommendation algorithms.\n",
    "* Numpy: Scientific computer library with high-level mathematical functions to operate with vectors and matrices.\n",
    "* Jupyter Notebook: Library that allows you to create and share documents that contain codes, equations, visualizations and texts.\n"
   ]
  },
  {
   "cell_type": "code",
   "execution_count": 4,
   "metadata": {},
   "outputs": [
    {
     "name": "stdout",
     "output_type": "stream",
     "text": [
      "Hello\n"
     ]
    }
   ],
   "source": [
    "print('Hello')"
   ]
  },
  {
   "cell_type": "markdown",
   "metadata": {},
   "source": [
    "<div style=\"display:flex\">\n",
    "   <h2>Dataset that we will analyze: MovieLens movies with information provider by iMDB</h2>\n",
    "   \n",
    "</div>\n",
    "\n"
   ]
  },
  {
   "cell_type": "markdown",
   "metadata": {},
   "source": [
    "* 5,000 movies. For each movie we have  title, genre, plot and revenue\n",
    "* 270,000 users.\n",
    "* 26,000,000 ratings (1,10)\n",
    "* 750,000 keywords about movies\n",
    "\n",
    "\n",
    "![](movies.png)\n"
   ]
  },
  {
   "cell_type": "markdown",
   "metadata": {},
   "source": [
    "### Load data with Pandas\n",
    "\n",
    "Pandas is the most powerful and flexible open source data analysis / manipulation tool. It provides fast, flexible and expressive data structures designed to work with relational or tagged data."
   ]
  },
  {
   "cell_type": "code",
   "execution_count": 4,
   "metadata": {},
   "outputs": [],
   "source": [
    "import pandas as pd\n",
    "import json\n",
    "import ast\n",
    "import numpy as np\n",
    "import matplotlib.pyplot as plt"
   ]
  },
  {
   "cell_type": "code",
   "execution_count": 5,
   "metadata": {},
   "outputs": [],
   "source": [
    "def load_movies_metadata(file_path):\n",
    "    df = pd.read_csv(file_path, dtype='unicode')\n",
    "    \n",
    "    df['release_date'] = pd.to_datetime(df['release_date'], errors='coerce').apply(lambda x: x.date())\n",
    "    numeric_columns  = ['budget', 'vote_average','revenue','vote_count']\n",
    "    for c in numeric_columns:\n",
    "        df[c] = pd.to_numeric(df[c], errors='coerce')\n",
    "    \n",
    "    # json columns\n",
    "    json_columns = ['belongs_to_collection', 'genres', 'production_companies', 'production_countries', 'spoken_languages']\n",
    "    for column in json_columns:\n",
    "        # We use ast because json data have simple '' in the csv intead of \"\n",
    "        df[column] = df[column].apply(lambda x: np.nan if pd.isnull(x) else ast.literal_eval(x))\n",
    "        \n",
    "    \n",
    "    return df\n",
    "\n",
    "movies = load_movies_metadata('movies/movies_metadata.csv')\n"
   ]
  },
  {
   "cell_type": "code",
   "execution_count": 5,
   "metadata": {},
   "outputs": [
    {
     "data": {
      "text/html": [
       "<div>\n",
       "<style scoped>\n",
       "    .dataframe tbody tr th:only-of-type {\n",
       "        vertical-align: middle;\n",
       "    }\n",
       "\n",
       "    .dataframe tbody tr th {\n",
       "        vertical-align: top;\n",
       "    }\n",
       "\n",
       "    .dataframe thead th {\n",
       "        text-align: right;\n",
       "    }\n",
       "</style>\n",
       "<table border=\"1\" class=\"dataframe\">\n",
       "  <thead>\n",
       "    <tr style=\"text-align: right;\">\n",
       "      <th></th>\n",
       "      <th>adult</th>\n",
       "      <th>belongs_to_collection</th>\n",
       "      <th>budget</th>\n",
       "      <th>genres</th>\n",
       "      <th>homepage</th>\n",
       "      <th>id</th>\n",
       "      <th>imdb_id</th>\n",
       "      <th>original_language</th>\n",
       "      <th>original_title</th>\n",
       "      <th>overview</th>\n",
       "      <th>...</th>\n",
       "      <th>release_date</th>\n",
       "      <th>revenue</th>\n",
       "      <th>runtime</th>\n",
       "      <th>spoken_languages</th>\n",
       "      <th>status</th>\n",
       "      <th>tagline</th>\n",
       "      <th>title</th>\n",
       "      <th>video</th>\n",
       "      <th>vote_average</th>\n",
       "      <th>vote_count</th>\n",
       "    </tr>\n",
       "  </thead>\n",
       "  <tbody>\n",
       "    <tr>\n",
       "      <th>0</th>\n",
       "      <td>False</td>\n",
       "      <td>{u'backdrop_path': u'/9FBwqcd9IRruEDUrTdcaafOM...</td>\n",
       "      <td>30000000.0</td>\n",
       "      <td>[{u'id': 16, u'name': u'Animation'}, {u'id': 3...</td>\n",
       "      <td>http://toystory.disney.com/toy-story</td>\n",
       "      <td>862</td>\n",
       "      <td>tt0114709</td>\n",
       "      <td>en</td>\n",
       "      <td>Toy Story</td>\n",
       "      <td>Led by Woody, Andy's toys live happily in his ...</td>\n",
       "      <td>...</td>\n",
       "      <td>1995-10-30</td>\n",
       "      <td>373554033.0</td>\n",
       "      <td>81.0</td>\n",
       "      <td>[{u'iso_639_1': u'en', u'name': u'English'}]</td>\n",
       "      <td>Released</td>\n",
       "      <td>NaN</td>\n",
       "      <td>Toy Story</td>\n",
       "      <td>False</td>\n",
       "      <td>7.7</td>\n",
       "      <td>5415.0</td>\n",
       "    </tr>\n",
       "    <tr>\n",
       "      <th>1</th>\n",
       "      <td>False</td>\n",
       "      <td>NaN</td>\n",
       "      <td>65000000.0</td>\n",
       "      <td>[{u'id': 12, u'name': u'Adventure'}, {u'id': 1...</td>\n",
       "      <td>NaN</td>\n",
       "      <td>8844</td>\n",
       "      <td>tt0113497</td>\n",
       "      <td>en</td>\n",
       "      <td>Jumanji</td>\n",
       "      <td>When siblings Judy and Peter discover an encha...</td>\n",
       "      <td>...</td>\n",
       "      <td>1995-12-15</td>\n",
       "      <td>262797249.0</td>\n",
       "      <td>104.0</td>\n",
       "      <td>[{u'iso_639_1': u'en', u'name': u'English'}, {...</td>\n",
       "      <td>Released</td>\n",
       "      <td>Roll the dice and unleash the excitement!</td>\n",
       "      <td>Jumanji</td>\n",
       "      <td>False</td>\n",
       "      <td>6.9</td>\n",
       "      <td>2413.0</td>\n",
       "    </tr>\n",
       "    <tr>\n",
       "      <th>2</th>\n",
       "      <td>False</td>\n",
       "      <td>{u'backdrop_path': u'/hypTnLot2z8wpFS7qwsQHW1u...</td>\n",
       "      <td>0.0</td>\n",
       "      <td>[{u'id': 10749, u'name': u'Romance'}, {u'id': ...</td>\n",
       "      <td>NaN</td>\n",
       "      <td>15602</td>\n",
       "      <td>tt0113228</td>\n",
       "      <td>en</td>\n",
       "      <td>Grumpier Old Men</td>\n",
       "      <td>A family wedding reignites the ancient feud be...</td>\n",
       "      <td>...</td>\n",
       "      <td>1995-12-22</td>\n",
       "      <td>0.0</td>\n",
       "      <td>101.0</td>\n",
       "      <td>[{u'iso_639_1': u'en', u'name': u'English'}]</td>\n",
       "      <td>Released</td>\n",
       "      <td>Still Yelling. Still Fighting. Still Ready for...</td>\n",
       "      <td>Grumpier Old Men</td>\n",
       "      <td>False</td>\n",
       "      <td>6.5</td>\n",
       "      <td>92.0</td>\n",
       "    </tr>\n",
       "    <tr>\n",
       "      <th>3</th>\n",
       "      <td>False</td>\n",
       "      <td>NaN</td>\n",
       "      <td>16000000.0</td>\n",
       "      <td>[{u'id': 35, u'name': u'Comedy'}, {u'id': 18, ...</td>\n",
       "      <td>NaN</td>\n",
       "      <td>31357</td>\n",
       "      <td>tt0114885</td>\n",
       "      <td>en</td>\n",
       "      <td>Waiting to Exhale</td>\n",
       "      <td>Cheated on, mistreated and stepped on, the wom...</td>\n",
       "      <td>...</td>\n",
       "      <td>1995-12-22</td>\n",
       "      <td>81452156.0</td>\n",
       "      <td>127.0</td>\n",
       "      <td>[{u'iso_639_1': u'en', u'name': u'English'}]</td>\n",
       "      <td>Released</td>\n",
       "      <td>Friends are the people who let you be yourself...</td>\n",
       "      <td>Waiting to Exhale</td>\n",
       "      <td>False</td>\n",
       "      <td>6.1</td>\n",
       "      <td>34.0</td>\n",
       "    </tr>\n",
       "  </tbody>\n",
       "</table>\n",
       "<p>4 rows × 24 columns</p>\n",
       "</div>"
      ],
      "text/plain": [
       "   adult                              belongs_to_collection      budget  \\\n",
       "0  False  {u'backdrop_path': u'/9FBwqcd9IRruEDUrTdcaafOM...  30000000.0   \n",
       "1  False                                                NaN  65000000.0   \n",
       "2  False  {u'backdrop_path': u'/hypTnLot2z8wpFS7qwsQHW1u...         0.0   \n",
       "3  False                                                NaN  16000000.0   \n",
       "\n",
       "                                              genres  \\\n",
       "0  [{u'id': 16, u'name': u'Animation'}, {u'id': 3...   \n",
       "1  [{u'id': 12, u'name': u'Adventure'}, {u'id': 1...   \n",
       "2  [{u'id': 10749, u'name': u'Romance'}, {u'id': ...   \n",
       "3  [{u'id': 35, u'name': u'Comedy'}, {u'id': 18, ...   \n",
       "\n",
       "                               homepage     id    imdb_id original_language  \\\n",
       "0  http://toystory.disney.com/toy-story    862  tt0114709                en   \n",
       "1                                   NaN   8844  tt0113497                en   \n",
       "2                                   NaN  15602  tt0113228                en   \n",
       "3                                   NaN  31357  tt0114885                en   \n",
       "\n",
       "      original_title                                           overview  \\\n",
       "0          Toy Story  Led by Woody, Andy's toys live happily in his ...   \n",
       "1            Jumanji  When siblings Judy and Peter discover an encha...   \n",
       "2   Grumpier Old Men  A family wedding reignites the ancient feud be...   \n",
       "3  Waiting to Exhale  Cheated on, mistreated and stepped on, the wom...   \n",
       "\n",
       "     ...     release_date      revenue runtime  \\\n",
       "0    ...       1995-10-30  373554033.0    81.0   \n",
       "1    ...       1995-12-15  262797249.0   104.0   \n",
       "2    ...       1995-12-22          0.0   101.0   \n",
       "3    ...       1995-12-22   81452156.0   127.0   \n",
       "\n",
       "                                    spoken_languages    status  \\\n",
       "0       [{u'iso_639_1': u'en', u'name': u'English'}]  Released   \n",
       "1  [{u'iso_639_1': u'en', u'name': u'English'}, {...  Released   \n",
       "2       [{u'iso_639_1': u'en', u'name': u'English'}]  Released   \n",
       "3       [{u'iso_639_1': u'en', u'name': u'English'}]  Released   \n",
       "\n",
       "                                             tagline              title  \\\n",
       "0                                                NaN          Toy Story   \n",
       "1          Roll the dice and unleash the excitement!            Jumanji   \n",
       "2  Still Yelling. Still Fighting. Still Ready for...   Grumpier Old Men   \n",
       "3  Friends are the people who let you be yourself...  Waiting to Exhale   \n",
       "\n",
       "   video vote_average vote_count  \n",
       "0  False          7.7     5415.0  \n",
       "1  False          6.9     2413.0  \n",
       "2  False          6.5       92.0  \n",
       "3  False          6.1       34.0  \n",
       "\n",
       "[4 rows x 24 columns]"
      ]
     },
     "execution_count": 5,
     "metadata": {},
     "output_type": "execute_result"
    }
   ],
   "source": [
    "movies.head(4)"
   ]
  },
  {
   "cell_type": "code",
   "execution_count": 6,
   "metadata": {},
   "outputs": [
    {
     "data": {
      "text/plain": [
       "array(['en', 'fr', 'zh', 'it', 'fa', 'nl', 'de', 'cn', 'ar', 'es', 'ru',\n",
       "       'sv', 'ja', 'ko', 'sr', 'bn', 'he', 'pt', 'wo', 'ro', 'hu', 'cy',\n",
       "       'vi', 'cs', 'da', 'no', 'nb', 'pl', 'el', 'sh', 'xx', 'mk', 'bo',\n",
       "       'ca', 'fi', 'th', 'sk', 'bs', 'hi', 'tr', 'is', 'ps', 'ab', 'eo',\n",
       "       'ka', 'mn', 'bm', 'zu', 'uk', 'af', 'la', 'et', 'ku', 'fy', 'lv',\n",
       "       'ta', 'sl', 'tl', 'ur', 'rw', 'id', 'bg', 'mr', 'lt', 'kk', 'ms',\n",
       "       'sq', nan, '104.0', 'qu', 'te', 'am', 'jv', 'tg', 'ml', 'hr', 'lo',\n",
       "       'ay', 'kn', 'eu', 'ne', 'pa', 'ky', 'gl', '68.0', 'uz', 'sm', 'mt',\n",
       "       '82.0', 'hy', 'iu', 'lb', 'si'], dtype=object)"
      ]
     },
     "execution_count": 6,
     "metadata": {},
     "output_type": "execute_result"
    }
   ],
   "source": [
    "movies['original_language'].unique()\n",
    "#movies[movies['original_language']=='es']\n",
    "#movies.groupby('original_language').size()"
   ]
  },
  {
   "cell_type": "code",
   "execution_count": 6,
   "metadata": {},
   "outputs": [
    {
     "data": {
      "text/plain": [
       "Index(['adult', 'belongs_to_collection', 'budget', 'genres', 'homepage', 'id',\n",
       "       'imdb_id', 'original_language', 'original_title', 'overview',\n",
       "       'popularity', 'poster_path', 'production_companies',\n",
       "       'production_countries', 'release_date', 'revenue', 'runtime',\n",
       "       'spoken_languages', 'status', 'tagline', 'title', 'video',\n",
       "       'vote_average', 'vote_count'],\n",
       "      dtype='object')"
      ]
     },
     "execution_count": 6,
     "metadata": {},
     "output_type": "execute_result"
    }
   ],
   "source": [
    "movies.columns"
   ]
  },
  {
   "cell_type": "code",
   "execution_count": 10,
   "metadata": {},
   "outputs": [
    {
     "name": "stdout",
     "output_type": "stream",
     "text": [
      "<class 'pandas.core.frame.DataFrame'>\n",
      "RangeIndex: 45466 entries, 0 to 45465\n",
      "Data columns (total 24 columns):\n",
      "adult                    45466 non-null object\n",
      "belongs_to_collection    4494 non-null object\n",
      "budget                   45463 non-null float64\n",
      "genres                   45466 non-null object\n",
      "homepage                 7782 non-null object\n",
      "id                       45466 non-null object\n",
      "imdb_id                  45449 non-null object\n",
      "original_language        45455 non-null object\n",
      "original_title           45466 non-null object\n",
      "overview                 44512 non-null object\n",
      "popularity               45461 non-null object\n",
      "poster_path              45080 non-null object\n",
      "production_companies     45463 non-null object\n",
      "production_countries     45463 non-null object\n",
      "release_date             45376 non-null object\n",
      "revenue                  45460 non-null float64\n",
      "runtime                  45203 non-null object\n",
      "spoken_languages         45460 non-null object\n",
      "status                   45379 non-null object\n",
      "tagline                  20412 non-null object\n",
      "title                    45460 non-null object\n",
      "video                    45460 non-null object\n",
      "vote_average             45460 non-null float64\n",
      "vote_count               45460 non-null float64\n",
      "dtypes: float64(4), object(20)\n",
      "memory usage: 8.3+ MB\n"
     ]
    }
   ],
   "source": [
    "movies.info()"
   ]
  },
  {
   "cell_type": "code",
   "execution_count": 7,
   "metadata": {},
   "outputs": [
    {
     "name": "stdout",
     "output_type": "stream",
     "text": [
      "['Animation', 'Comedy', 'Family', 'Adventure', 'Fantasy', 'Romance', 'Drama', 'Action', 'Crime', 'Thriller', 'Horror', 'History', 'Science Fiction', 'Mystery', 'War', 'Foreign', 'Music', 'Documentary', 'Western', 'TV Movie', 'Carousel Productions', 'Vision View Entertainment', 'Telescene Film Group Productions', 'Aniplex', 'GoHands', 'BROSTA TV', 'Mardock Scramble Production Committee', 'Sentai Filmworks', 'Odyssey Media', 'Pulser Productions', 'Rogue State', 'The Cartel']\n"
     ]
    }
   ],
   "source": [
    "genres = []\n",
    "for i,row in movies.iterrows():\n",
    "    if row['genres'] is not np.nan:\n",
    "        a = row['genres']\n",
    "        for item in a:\n",
    "            if item['name'] not in genres:\n",
    "                genres.append(item['name'])\n",
    "print(genres)"
   ]
  },
  {
   "cell_type": "markdown",
   "metadata": {},
   "source": [
    "Calculate the cinematographic genre that had the most revenue"
   ]
  },
  {
   "cell_type": "code",
   "execution_count": 9,
   "metadata": {},
   "outputs": [],
   "source": [
    "genre_revenue = {}\n",
    "\n",
    "for i in range(movies.shape[0]):\n",
    "    for item in movies.iloc[i]['genres']:\n",
    "        if 'name' in item and movies.iloc[i]['revenue'] >0:\n",
    "            genre_name = item['name']\n",
    "            b = int(movies.iloc[i]['revenue'])/1000000\n",
    "            if genre_name in genre_revenue:\n",
    "                genre_revenue[genre_name]['total_revenue'] += b \n",
    "            else:\n",
    "                genre_revenue[genre_name] = {}\n",
    "                genre_revenue[genre_name]['genre'] = genre_name\n",
    "                genre_revenue[genre_name]['total_revenue'] = b\n",
    "\n",
    "most_profitable_genre = pd.DataFrame(None,None,columns=['genre','revenue'])\n",
    "\n",
    "for k,v in genre_revenue.items():\n",
    "    most_profitable_genre =  most_profitable_genre.append({'genre':v['genre'],'revenue':v['total_revenue']},ignore_index=True)"
   ]
  },
  {
   "cell_type": "code",
   "execution_count": 10,
   "metadata": {},
   "outputs": [],
   "source": [
    "most_profitable_genre = most_profitable_genre.sort_values(by='revenue',ascending=False)"
   ]
  },
  {
   "cell_type": "code",
   "execution_count": 14,
   "metadata": {},
   "outputs": [
    {
     "data": {
      "text/html": [
       "<div>\n",
       "<style scoped>\n",
       "    .dataframe tbody tr th:only-of-type {\n",
       "        vertical-align: middle;\n",
       "    }\n",
       "\n",
       "    .dataframe tbody tr th {\n",
       "        vertical-align: top;\n",
       "    }\n",
       "\n",
       "    .dataframe thead th {\n",
       "        text-align: right;\n",
       "    }\n",
       "</style>\n",
       "<table border=\"1\" class=\"dataframe\">\n",
       "  <thead>\n",
       "    <tr style=\"text-align: right;\">\n",
       "      <th></th>\n",
       "      <th>genre</th>\n",
       "      <th>revenue</th>\n",
       "    </tr>\n",
       "  </thead>\n",
       "  <tbody>\n",
       "    <tr>\n",
       "      <th>13</th>\n",
       "      <td>Action</td>\n",
       "      <td>200726</td>\n",
       "    </tr>\n",
       "    <tr>\n",
       "      <th>11</th>\n",
       "      <td>Adventure</td>\n",
       "      <td>199616</td>\n",
       "    </tr>\n",
       "    <tr>\n",
       "      <th>15</th>\n",
       "      <td>Comedy</td>\n",
       "      <td>165797</td>\n",
       "    </tr>\n",
       "    <tr>\n",
       "      <th>6</th>\n",
       "      <td>Drama</td>\n",
       "      <td>159386</td>\n",
       "    </tr>\n",
       "    <tr>\n",
       "      <th>18</th>\n",
       "      <td>Thriller</td>\n",
       "      <td>129054</td>\n",
       "    </tr>\n",
       "  </tbody>\n",
       "</table>\n",
       "</div>"
      ],
      "text/plain": [
       "        genre revenue\n",
       "13     Action  200726\n",
       "11  Adventure  199616\n",
       "15     Comedy  165797\n",
       "6       Drama  159386\n",
       "18   Thriller  129054"
      ]
     },
     "execution_count": 14,
     "metadata": {},
     "output_type": "execute_result"
    }
   ],
   "source": [
    "most_profitable_genre.head()"
   ]
  },
  {
   "cell_type": "markdown",
   "metadata": {},
   "source": [
    "### Data Visualization"
   ]
  },
  {
   "cell_type": "code",
   "execution_count": 13,
   "metadata": {},
   "outputs": [
    {
     "data": {
      "image/png": "[encoded data removed]",
      "text/plain": [
       "<Figure size 1224x504 with 1 Axes>"
      ]
     },
     "metadata": {},
     "output_type": "display_data"
    }
   ],
   "source": [
    "plt.style.use('ggplot')\n",
    "plt.figure(figsize=(17,7))\n",
    "number_of_genres= len(most_profitable_genre['genre'])\n",
    "index = np.arange(number_of_genres)\n",
    "bar_width = 0.8\n",
    "plt.bar(index, most_profitable_genre['revenue'], bar_width, color='#5555FA' )\n",
    "plt.gca().set_xlabel(u\"Genre\")\n",
    "plt.gca().set_ylabel(u\"Revenue (in millions of dollars)\")\n",
    "plt.xticks(index +bar_width/2, most_profitable_genre['genre'],rotation=30, fontsize=12)\n",
    "plt.gca().set_title(u\"Most profitable movies by genre\")\n",
    "plt.show()"
   ]
  },
  {
   "cell_type": "markdown",
   "metadata": {},
   "source": [
    "We can also see the maximum number of votes for each genre"
   ]
  },
  {
   "cell_type": "code",
   "execution_count": 20,
   "metadata": {},
   "outputs": [],
   "source": [
    "genre_vote_count = {}\n",
    "\n",
    "for i,_ in movies.iterrows():   \n",
    "    for item in movies.loc[i]['genres']:\n",
    "        \n",
    "        if 'name' in item and movies.loc[i]['vote_count'] >0:\n",
    "            a = item['name']\n",
    "            b = movies.loc[i]['vote_count']\n",
    "            if a in genre_vote_count:\n",
    "                genre_vote_count[a]['total_votes'] += b \n",
    "            else:\n",
    "                genre_vote_count[a] = {}\n",
    "                genre_vote_count[a]['genre'] = a\n",
    "                genre_vote_count[a]['total_votes'] = b\n",
    "\n",
    "most_votes_genre = pd.DataFrame(None,None,columns=['genre','total_votes'])\n",
    "\n",
    "for k,v in genre_vote_count.items():\n",
    "    most_votes_genre =  most_votes_genre.append({'genre':v['genre'],'total_votes':v['total_votes']},ignore_index=True)"
   ]
  },
  {
   "cell_type": "code",
   "execution_count": 19,
   "metadata": {},
   "outputs": [
    {
     "data": {
      "text/html": [
       "<div>\n",
       "<style scoped>\n",
       "    .dataframe tbody tr th:only-of-type {\n",
       "        vertical-align: middle;\n",
       "    }\n",
       "\n",
       "    .dataframe tbody tr th {\n",
       "        vertical-align: top;\n",
       "    }\n",
       "\n",
       "    .dataframe thead th {\n",
       "        text-align: right;\n",
       "    }\n",
       "</style>\n",
       "<table border=\"1\" class=\"dataframe\">\n",
       "  <thead>\n",
       "    <tr style=\"text-align: right;\">\n",
       "      <th></th>\n",
       "      <th>genre</th>\n",
       "      <th>total_votes</th>\n",
       "    </tr>\n",
       "  </thead>\n",
       "  <tbody>\n",
       "    <tr>\n",
       "      <th>6</th>\n",
       "      <td>Drama</td>\n",
       "      <td>1956070.0</td>\n",
       "    </tr>\n",
       "    <tr>\n",
       "      <th>7</th>\n",
       "      <td>Action</td>\n",
       "      <td>1708508.0</td>\n",
       "    </tr>\n",
       "    <tr>\n",
       "      <th>1</th>\n",
       "      <td>Comedy</td>\n",
       "      <td>1438185.0</td>\n",
       "    </tr>\n",
       "    <tr>\n",
       "      <th>3</th>\n",
       "      <td>Adventure</td>\n",
       "      <td>1434576.0</td>\n",
       "    </tr>\n",
       "    <tr>\n",
       "      <th>9</th>\n",
       "      <td>Thriller</td>\n",
       "      <td>1434045.0</td>\n",
       "    </tr>\n",
       "  </tbody>\n",
       "</table>\n",
       "</div>"
      ],
      "text/plain": [
       "       genre  total_votes\n",
       "6      Drama    1956070.0\n",
       "7     Action    1708508.0\n",
       "1     Comedy    1438185.0\n",
       "3  Adventure    1434576.0\n",
       "9   Thriller    1434045.0"
      ]
     },
     "execution_count": 19,
     "metadata": {},
     "output_type": "execute_result"
    }
   ],
   "source": [
    "most_votes_genre = most_votes_genre.sort_values(by='total_votes',ascending=False)\n",
    "most_votes_genre.head()"
   ]
  },
  {
   "cell_type": "code",
   "execution_count": 18,
   "metadata": {},
   "outputs": [
    {
     "data": {
      "image/png": "[encoded data removed]",
      "text/plain": [
       "<Figure size 1224x504 with 1 Axes>"
      ]
     },
     "metadata": {},
     "output_type": "display_data"
    }
   ],
   "source": [
    "number_of_genres= len(most_votes_genre['genre'])\n",
    "index = np.arange(number_of_genres)\n",
    "bar_width = 0.8\n",
    "plt.figure(figsize=(17,7))\n",
    "plt.bar(index, most_votes_genre['total_votes'], bar_width, color='#5555FA' )\n",
    "plt.gca().set_xlabel(u\"Genre\")\n",
    "plt.gca().set_ylabel(u\"Total votes\")\n",
    "plt.xticks(index +bar_width/2, most_votes_genre['genre'],rotation=30, fontsize=12)\n",
    "plt.gca().set_title(u\"Total votes by genre\")\n",
    "plt.xlabel(u\"Genres\")\n",
    "plt.ylabel(u\"Total votes\")\n",
    "plt.show()\n"
   ]
  },
  {
   "cell_type": "markdown",
   "metadata": {},
   "source": [
    "#### Relation among ratings and revenues"
   ]
  },
  {
   "cell_type": "code",
   "execution_count": 22,
   "metadata": {},
   "outputs": [
    {
     "data": {
      "image/png": "[encoded data removed]",
      "text/plain": [
       "<Figure size 1224x504 with 1 Axes>"
      ]
     },
     "metadata": {},
     "output_type": "display_data"
    }
   ],
   "source": [
    "revenue_votes=movies[movies['vote_average']>1]\n",
    "plt.figure(figsize=(17,7))\n",
    "plt.scatter(revenue_votes['vote_average'],revenue_votes['revenue'], c='g', edgecolors='g', alpha=1)\n",
    "plt.ylabel('Revenue')\n",
    "plt.xlabel('Average Rating')\n",
    "ax = plt.gca()\n",
    "ax.get_yaxis().get_major_formatter().set_scientific(False)\n",
    "plt.title(u'Relation among average ratings and revenues')\n",
    "\n",
    "plt.show()"
   ]
  },
  {
   "cell_type": "code",
   "execution_count": 21,
   "metadata": {},
   "outputs": [
    {
     "name": "stdout",
     "output_type": "stream",
     "text": [
      "Avatar\n"
     ]
    }
   ],
   "source": [
    "index=revenue_votes['revenue'].idxmax()\n",
    "print(movies.loc[index]['title'])"
   ]
  },
  {
   "cell_type": "markdown",
   "metadata": {},
   "source": [
    "#### Ratings distribution"
   ]
  },
  {
   "cell_type": "code",
   "execution_count": 7,
   "metadata": {},
   "outputs": [],
   "source": [
    "ratings=pd.read_csv('movies/ratings.csv')\n",
    "ratings=ratings.groupby('rating').size().reset_index(name='count')\n",
    "ratings.sort_values('count', ascending=False, inplace=True)\n",
    "#ratings"
   ]
  },
  {
   "cell_type": "code",
   "execution_count": 8,
   "metadata": {},
   "outputs": [
    {
     "data": {
      "image/png": "[encoded data removed]",
      "text/plain": [
       "<Figure size 1224x504 with 1 Axes>"
      ]
     },
     "metadata": {},
     "output_type": "display_data"
    }
   ],
   "source": [
    "ratings.sort_values('rating', inplace=True)\n",
    "index= np.arange(0.5,5.5,0.5)\n",
    "plt.figure(figsize=(17,7))\n",
    "\n",
    "plt.bar(index, ratings['count'], color='#5555FA', edgecolor='#5555FA', align='center', width=0.3)\n",
    "plt.xlabel(u'Ratings')\n",
    "plt.ylabel(u'Number of films')\n",
    "plt.title(u'Ratings frecuency')\n",
    "\n",
    "plt.xticks(np.arange(0,5.5,0.5))\n",
    "plt.show()"
   ]
  },
  {
   "cell_type": "markdown",
   "metadata": {},
   "source": [
    "#### Total of votes by movie"
   ]
  },
  {
   "cell_type": "code",
   "execution_count": 24,
   "metadata": {},
   "outputs": [
    {
     "name": "stdout",
     "output_type": "stream",
     "text": [
      "3.543608255669773\n"
     ]
    }
   ],
   "source": [
    "ratings=pd.read_csv('movies/ratings.csv')\n",
    "media_rating = ratings['rating'].mean()\n",
    "print (media_rating)\n",
    "\n",
    "ratings=ratings.groupby('movieId').size().reset_index(name='count')    \n",
    "ratings.sort_values('count', ascending=False, inplace=True)\n",
    "#ratings[ratings['count']>1]\n",
    "\n"
   ]
  },
  {
   "cell_type": "markdown",
   "metadata": {},
   "source": [
    "### Recommender system based on the content of the movies\n",
    "\n",
    "Get better recommendations for the movie The Dark Knight, here known as \"Batman: el caballero de la noche\"."
   ]
  },
  {
   "cell_type": "code",
   "execution_count": 6,
   "metadata": {},
   "outputs": [],
   "source": [
    "from sklearn.feature_extraction.text import CountVectorizer\n",
    "from sklearn.metrics.pairwise import linear_kernel, cosine_similarity"
   ]
  },
  {
   "cell_type": "code",
   "execution_count": 11,
   "metadata": {},
   "outputs": [
    {
     "data": {
      "text/html": [
       "<div>\n",
       "<style scoped>\n",
       "    .dataframe tbody tr th:only-of-type {\n",
       "        vertical-align: middle;\n",
       "    }\n",
       "\n",
       "    .dataframe tbody tr th {\n",
       "        vertical-align: top;\n",
       "    }\n",
       "\n",
       "    .dataframe thead th {\n",
       "        text-align: right;\n",
       "    }\n",
       "</style>\n",
       "<table border=\"1\" class=\"dataframe\">\n",
       "  <thead>\n",
       "    <tr style=\"text-align: right;\">\n",
       "      <th></th>\n",
       "      <th>lot</th>\n",
       "      <th>love</th>\n",
       "      <th>program</th>\n",
       "      <th>python</th>\n",
       "    </tr>\n",
       "  </thead>\n",
       "  <tbody>\n",
       "    <tr>\n",
       "      <th>i program in python</th>\n",
       "      <td>0</td>\n",
       "      <td>0</td>\n",
       "      <td>1</td>\n",
       "      <td>1</td>\n",
       "    </tr>\n",
       "    <tr>\n",
       "      <th>i love python</th>\n",
       "      <td>0</td>\n",
       "      <td>1</td>\n",
       "      <td>0</td>\n",
       "      <td>1</td>\n",
       "    </tr>\n",
       "    <tr>\n",
       "      <th>I program a lot</th>\n",
       "      <td>1</td>\n",
       "      <td>0</td>\n",
       "      <td>1</td>\n",
       "      <td>0</td>\n",
       "    </tr>\n",
       "  </tbody>\n",
       "</table>\n",
       "</div>"
      ],
      "text/plain": [
       "                     lot  love  program  python\n",
       "i program in python    0     0        1       1\n",
       "i love python          0     1        0       1\n",
       "I program a lot        1     0        1       0"
      ]
     },
     "execution_count": 11,
     "metadata": {},
     "output_type": "execute_result"
    }
   ],
   "source": [
    "cv = CountVectorizer(analyzer='word', stop_words='english')\n",
    "corpus =['i program in python', 'i love python', 'I program a lot']\n",
    "example = cv.fit(corpus)\n",
    "data= example.transform(corpus).todense()\n",
    "pd.DataFrame(data=data,  index=corpus, columns=example.get_feature_names())"
   ]
  },
  {
   "cell_type": "code",
   "execution_count": 27,
   "metadata": {},
   "outputs": [],
   "source": [
    "movies['tagline'] = movies['tagline'].fillna('')\n",
    "movies['description'] = movies['overview'] + movies['tagline']\n",
    "movies['description'] = movies['description'].fillna('')\n",
    "\n",
    "cv_matrix = cv.fit_transform(movies['description'])"
   ]
  },
  {
   "cell_type": "markdown",
   "metadata": {},
   "source": [
    "##### Cosine similarity"
   ]
  },
  {
   "cell_type": "code",
   "execution_count": 28,
   "metadata": {},
   "outputs": [
    {
     "data": {
      "text/plain": [
       "585                                                 Batman\n",
       "40974    LEGO DC Comics Super Heroes: Batman: Be-Leaguered\n",
       "18009                               This Must Be the Place\n",
       "41976                                The Lego Batman Movie\n",
       "18035                                     Batman: Year One\n",
       "20232              Batman: The Dark Knight Returns, Part 2\n",
       "21194    Batman Unmasked: The Psychology of the Dark Kn...\n",
       "26102                                       Going Straight\n",
       "150                                         Batman Forever\n",
       "28023                                      The Dead Season\n",
       "15511                           Batman: Under the Red Hood\n",
       "1328                                        Batman Returns\n",
       "40658                                             Paranoia\n",
       "18252                                The Dark Knight Rises\n",
       "Name: title, dtype: object"
      ]
     },
     "execution_count": 28,
     "metadata": {},
     "output_type": "execute_result"
    }
   ],
   "source": [
    "from sklearn.metrics.pairwise import  cosine_similarity\n",
    "\n",
    "film1_index = np.where(movies[\"title\"] ==\"The Dark Knight\")[0]\n",
    "cv_vector_film_1 =cv_matrix[film1_index,:]\n",
    "distances = cosine_similarity(cv_vector_film_1, cv_matrix)[0]\n",
    "indices_of_most_simmilar_films = distances.argsort()[-15:-1]\n",
    "movies.iloc[indices_of_most_simmilar_films][\"title\"]\n",
    "\n"
   ]
  },
  {
   "cell_type": "markdown",
   "metadata": {},
   "source": [
    "### Using Recommender Systems with Surprise"
   ]
  },
  {
   "cell_type": "code",
   "execution_count": 5,
   "metadata": {},
   "outputs": [],
   "source": [
    "from surprise import Reader, Dataset, KNNBasic, evaluate, accuracy\n",
    "from surprise.model_selection import KFold"
   ]
  },
  {
   "cell_type": "code",
   "execution_count": 6,
   "metadata": {},
   "outputs": [],
   "source": [
    "ratings=pd.read_csv('movies/ratings.csv')\n",
    "#print(ratings.head())"
   ]
  },
  {
   "cell_type": "code",
   "execution_count": 7,
   "metadata": {},
   "outputs": [],
   "source": [
    "# Reader specifies the scale of ratings.\n",
    "reader = Reader(rating_scale=(0.5, 5))\n",
    "\n",
    "# The columns must be: user id, item id, ratings, se debe respetar ese orden.\n",
    "data = Dataset.load_from_df(ratings[['userId', 'movieId', 'rating']], reader)\n"
   ]
  },
  {
   "cell_type": "markdown",
   "metadata": {},
   "source": [
    "![](sparse_matrix_sm.png)"
   ]
  },
  {
   "cell_type": "markdown",
   "metadata": {},
   "source": [
    "### Colaborative filtering approach item-item"
   ]
  },
  {
   "cell_type": "code",
   "execution_count": 9,
   "metadata": {},
   "outputs": [
    {
     "name": "stdout",
     "output_type": "stream",
     "text": [
      "Computing the cosine similarity matrix...\n",
      "Done computing similarity matrix.\n",
      "RMSE: 0.9961\n",
      "Computing the cosine similarity matrix...\n",
      "Done computing similarity matrix.\n",
      "RMSE: 0.9910\n",
      "Computing the cosine similarity matrix...\n",
      "Done computing similarity matrix.\n",
      "RMSE: 0.9911\n"
     ]
    }
   ],
   "source": [
    "# Iterator for cross-validation\n",
    "kf = KFold(n_splits=3)\n",
    "\n",
    "sim_options = {'name': 'cosine',\n",
    "               'user_based': False  # aproach item-item \n",
    "              }\n",
    "        \n",
    "algo = KNNBasic(sim_options=sim_options)\n",
    "\n",
    "for trainset, testset in kf.split(data):\n",
    "\n",
    "    # Fit and run the algorithm.\n",
    "    algo.fit(trainset)\n",
    "    predictions = algo.test(testset)\n",
    "\n",
    "    # Evaluate the performance calculating RMSE error\n",
    "    accuracy.rmse(predictions, verbose=True)"
   ]
  },
  {
   "cell_type": "markdown",
   "metadata": {},
   "source": [
    "### Colaborative filtering approach user-user"
   ]
  },
  {
   "cell_type": "code",
   "execution_count": 20,
   "metadata": {},
   "outputs": [
    {
     "name": "stdout",
     "output_type": "stream",
     "text": [
      "Estimating biases using als...\n",
      "Computing the pearson_baseline similarity matrix...\n",
      "Done computing similarity matrix.\n",
      "RMSE: 1.0061\n",
      "FCP:  0.6477\n",
      "Estimating biases using als...\n",
      "Computing the pearson_baseline similarity matrix...\n",
      "Done computing similarity matrix.\n",
      "RMSE: 1.0137\n",
      "FCP:  0.6428\n",
      "Estimating biases using als...\n",
      "Computing the pearson_baseline similarity matrix...\n",
      "Done computing similarity matrix.\n",
      "RMSE: 1.0242\n",
      "FCP:  0.6398\n"
     ]
    }
   ],
   "source": [
    "# Iterator for cross-validation\n",
    "kf = KFold(n_splits=3)\n",
    "\n",
    "sim_options = {'name': 'pearson_baseline'}\n",
    "        \n",
    "algo = KNNBasic(sim_options=sim_options)\n",
    "\n",
    "for trainset, testset in kf.split(data):\n",
    "\n",
    "    # Fit and run the algorithm.\n",
    "    algo.fit(trainset)\n",
    "    predictions = algo.test(testset)\n",
    "    \n",
    "    # Evaluate the performance calculating RMSE error\n",
    "    accuracy.rmse(predictions, verbose=True)\n",
    "    accuracy.fcp(predictions, verbose=True)"
   ]
  },
  {
   "cell_type": "markdown",
   "metadata": {},
   "source": [
    "#### Predict a rating with this model"
   ]
  },
  {
   "cell_type": "code",
   "execution_count": 145,
   "metadata": {},
   "outputs": [
    {
     "name": "stdout",
     "output_type": "stream",
     "text": [
      "user: 631        item: 1584       r_ui = None   est = 3.79   {u'actual_k': 23, u'was_impossible': False}\n"
     ]
    }
   ],
   "source": [
    "two_ratings = list(algo.trainset.all_ratings())[0:2]\n",
    "\n",
    "uid = algo.trainset.to_raw_uid(two_ratings[0][0])  #user id \n",
    "iid = algo.trainset.to_raw_iid(two_ratings[1][1])  #item id \n",
    "\n",
    "# rating prediction for this user and this item.\n",
    "pred = algo.predict(uid, iid,  verbose=True)"
   ]
  },
  {
   "cell_type": "markdown",
   "metadata": {},
   "source": [
    "### Kaggle\n",
    "\n",
    "https://www.kaggle.com/\n",
    "\n",
    "There are a lot of available datasets and notebooks with data analysis and recomendations.\n",
    "\n"
   ]
  },
  {
   "cell_type": "markdown",
   "metadata": {},
   "source": [
    "### This notebook can be downloaded... \n",
    "\n",
    "https://github.com/mcharnelli/PyDataCordoba2018 "
   ]
  },
  {
   "cell_type": "markdown",
   "metadata": {},
   "source": [
    "![](questions.jpg)"
   ]
  },
  {
   "cell_type": "markdown",
   "metadata": {},
   "source": [
    "![](Thankyou.gif)"
   ]
  },
  {
   "cell_type": "markdown",
   "metadata": {},
   "source": [
    "### Contact\n",
    "\n",
    "https://www.linkedin.com/in/mar%C3%ADa-emilia-charnelli-385253160/\n",
    "\n",
    "maria.emilia.charnelli@gmail.com"
   ]
  },
  {
   "cell_type": "code",
   "execution_count": null,
   "metadata": {},
   "outputs": [],
   "source": []
  }
 ],
 "metadata": {
  "kernelspec": {
   "display_name": "etermax1",
   "language": "python",
   "name": "etermax1"
  },
  "language_info": {
   "codemirror_mode": {
    "name": "ipython",
    "version": 3
   },
   "file_extension": ".py",
   "mimetype": "text/x-python",
   "name": "python",
   "nbconvert_exporter": "python",
   "pygments_lexer": "ipython3",
   "version": "3.5.2"
  }
 },
 "nbformat": 4,
 "nbformat_minor": 2
}
